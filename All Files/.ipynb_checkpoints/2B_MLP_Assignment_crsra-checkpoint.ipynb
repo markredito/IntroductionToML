{
 "cells": [
  {
   "cell_type": "markdown",
   "metadata": {},
   "source": [
    "# TensorFlow Assignment: Multilayer Perceptron (MLP)"
   ]
  },
  {
   "cell_type": "markdown",
   "metadata": {},
   "source": [
    "**[Duke Community Standard](http://integrity.duke.edu/standard.html): By typing your name below, you are certifying that you have adhered to the Duke Community Standard in completing this assignment.**\n",
    "\n",
    "Name: "
   ]
  },
  {
   "cell_type": "markdown",
   "metadata": {},
   "source": [
    "### Multi-layer Perceptron\n",
    "\n",
    "Build a 2-layer MLP for MNIST digit classfication. Feel free to play around with the model architecture and see how the training time/performance changes, but to begin, try the following:\n",
    "\n",
    "Image (784 dimensions) -> fully connected layer (500 hidden units)  -> nonlinearity (ReLU) -> fully connected layer (100 hidden units) -> nonlinearity (ReLU) -> fully connected (10 hidden units) -> softmax"
   ]
  },
  {
   "cell_type": "code",
   "execution_count": 1,
   "metadata": {},
   "outputs": [
    {
     "name": "stdout",
     "output_type": "stream",
     "text": [
      "Downloading data from https://storage.googleapis.com/tensorflow/tf-keras-datasets/mnist.npz\n",
      "11493376/11490434 [==============================] - 0s 0us/step\n",
      "WARNING:tensorflow:From /opt/conda/lib/python3.6/site-packages/tensorflow/python/ops/init_ops.py:1251: calling VarianceScaling.__init__ (from tensorflow.python.ops.init_ops) with dtype is deprecated and will be removed in a future version.\n",
      "Instructions for updating:\n",
      "Call initializer instance with the dtype argument instead of passing it to the constructor\n",
      "Epoch 1/10\n",
      "60000/60000 [==============================] - 62s 1ms/sample - loss: 0.2135 - acc: 0.9342\n",
      "Epoch 2/10\n",
      "60000/60000 [==============================] - 61s 1ms/sample - loss: 0.1157 - acc: 0.9642\n",
      "Epoch 3/10\n",
      "60000/60000 [==============================] - 61s 1ms/sample - loss: 0.0908 - acc: 0.9707\n",
      "Epoch 4/10\n",
      "60000/60000 [==============================] - 60s 1ms/sample - loss: 0.0709 - acc: 0.9772\n",
      "Epoch 5/10\n",
      "60000/60000 [==============================] - 60s 1ms/sample - loss: 0.0622 - acc: 0.9799\n",
      "Epoch 6/10\n",
      "60000/60000 [==============================] - 60s 1000us/sample - loss: 0.0502 - acc: 0.9836\n",
      "Epoch 7/10\n",
      "60000/60000 [==============================] - 60s 1ms/sample - loss: 0.0470 - acc: 0.9849\n",
      "Epoch 8/10\n",
      "60000/60000 [==============================] - 60s 1ms/sample - loss: 0.0402 - acc: 0.9866\n",
      "Epoch 9/10\n",
      "60000/60000 [==============================] - 60s 1ms/sample - loss: 0.0366 - acc: 0.9880\n",
      "Epoch 10/10\n",
      "60000/60000 [==============================] - 62s 1ms/sample - loss: 0.0309 - acc: 0.9894\n",
      "10000/10000 [==============================] - 2s 200us/sample - loss: 0.0755 - acc: 0.9793\n",
      "Test accuracy: 0.9793\n"
     ]
    }
   ],
   "source": [
    "import tensorflow as tf\n",
    "from tensorflow.keras import datasets, layers, models\n",
    "\n",
    "# Load data \n",
    "(train_X, train_y), (test_X, test_y) = datasets.mnist.load_data()\n",
    "train_X = train_X / 255.0\n",
    "test_X = test_X / 255.0\n",
    "\n",
    "# Build model\n",
    "model = models.Sequential()\n",
    "model.add(layers.Flatten(input_shape=(28, 28))) \n",
    "model.add(layers.Dense(512, activation='relu'))\n",
    "model.add(layers.BatchNormalization())\n",
    "model.add(layers.Dense(256, activation='relu'))\n",
    "model.add(layers.BatchNormalization())  \n",
    "model.add(layers.Dense(128, activation='relu'))\n",
    "model.add(layers.BatchNormalization())\n",
    "model.add(layers.Dense(10, activation='softmax'))\n",
    "\n",
    "# Compile and train\n",
    "model.compile(\n",
    "  optimizer='adam', \n",
    "  loss='sparse_categorical_crossentropy',\n",
    "  metrics=['accuracy']\n",
    ")\n",
    "\n",
    "model.fit(train_X, train_y, epochs=10)\n",
    "\n",
    "# Evaluate \n",
    "test_loss, test_acc = model.evaluate(test_X, test_y)\n",
    "print('Test accuracy:', test_acc)"
   ]
  },
  {
   "cell_type": "code",
   "execution_count": 2,
   "metadata": {},
   "outputs": [
    {
     "name": "stdout",
     "output_type": "stream",
     "text": [
      "Epoch 1/5\n",
      "60000/60000 [==============================] - 41s 680us/sample - loss: 0.1913 - acc: 0.9425\n",
      "Epoch 2/5\n",
      "60000/60000 [==============================] - 41s 678us/sample - loss: 0.0779 - acc: 0.9759\n",
      "Epoch 3/5\n",
      "60000/60000 [==============================] - 40s 670us/sample - loss: 0.0555 - acc: 0.9822\n",
      "Epoch 4/5\n",
      "60000/60000 [==============================] - 40s 672us/sample - loss: 0.0395 - acc: 0.9875\n",
      "Epoch 5/5\n",
      "60000/60000 [==============================] - 41s 685us/sample - loss: 0.0329 - acc: 0.9895\n",
      "10000/10000 [==============================] - 1s 137us/sample - loss: 0.0717 - acc: 0.9809\n",
      "Test accuracy: 0.9809\n"
     ]
    }
   ],
   "source": [
    "import tensorflow as tf\n",
    "from tensorflow.keras import datasets, layers, models\n",
    "import matplotlib.pyplot as plt\n",
    "\n",
    "# Load MNIST dataset\n",
    "(train_X, train_y), (test_X, test_y) = datasets.mnist.load_data()\n",
    "\n",
    "# Normalize pixel values\n",
    "train_X = train_X / 255.0\n",
    "test_X = test_X / 255.0\n",
    "\n",
    "# Define model architecture \n",
    "model = models.Sequential()\n",
    "model.add(layers.Flatten(input_shape=(28, 28)))\n",
    "model.add(layers.Dense(500, activation='relu'))\n",
    "model.add(layers.Dense(100, activation='relu'))  \n",
    "model.add(layers.Dense(10, activation='softmax'))\n",
    "\n",
    "# Compile and train model\n",
    "model.compile(\n",
    "  optimizer='adam',\n",
    "  loss='sparse_categorical_crossentropy',\n",
    "  metrics=['accuracy']\n",
    ")\n",
    "\n",
    "model.fit(train_X, train_y, epochs=5)\n",
    "\n",
    "# Evaluate on test set\n",
    "test_loss, test_acc = model.evaluate(test_X, test_y)\n",
    "print('Test accuracy:', test_acc)"
   ]
  },
  {
   "cell_type": "code",
   "execution_count": null,
   "metadata": {},
   "outputs": [],
   "source": []
  }
 ],
 "metadata": {
  "kernelspec": {
   "display_name": "Python 3",
   "language": "python",
   "name": "python3"
  },
  "language_info": {
   "codemirror_mode": {
    "name": "ipython",
    "version": 3
   },
   "file_extension": ".py",
   "mimetype": "text/x-python",
   "name": "python",
   "nbconvert_exporter": "python",
   "pygments_lexer": "ipython3",
   "version": "3.6.5"
  }
 },
 "nbformat": 4,
 "nbformat_minor": 2
}
