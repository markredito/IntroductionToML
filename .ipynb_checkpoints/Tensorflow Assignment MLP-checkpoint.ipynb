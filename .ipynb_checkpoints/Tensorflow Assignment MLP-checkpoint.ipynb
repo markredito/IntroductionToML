{
 "cells": [
  {
   "cell_type": "markdown",
   "id": "a44812c9",
   "metadata": {},
   "source": [
    "Multi-layer Perceptron\n",
    "Build a 2-layer MLP for MNIST digit classfication. Feel free to play around with the model architecture and see how the training time/performance changes, but to begin, try the following:\n",
    "\n",
    "Image (784 dimensions) -> fully connected layer (500 hidden units) -> nonlinearity (ReLU) -> fully connected layer (100 hidden units) -> nonlinearity (ReLU) -> fully connected (10 hidden units) -> softmax\n",
    "\n",
    "# Make sure to print out your accuracy on the test set at the end."
   ]
  },
  {
   "cell_type": "markdown",
   "id": "9924e159",
   "metadata": {},
   "source": [
    "Attempt 1 (with the help of claude)"
   ]
  },
  {
   "cell_type": "code",
   "execution_count": 1,
   "id": "9f3b848a",
   "metadata": {},
   "outputs": [
    {
     "name": "stdout",
     "output_type": "stream",
     "text": [
      "Epoch 1/5\n",
      "1875/1875 [==============================] - 4s 2ms/step - loss: 0.1901 - accuracy: 0.9427\n",
      "Epoch 2/5\n",
      "1875/1875 [==============================] - 4s 2ms/step - loss: 0.0821 - accuracy: 0.9743\n",
      "Epoch 3/5\n",
      "1875/1875 [==============================] - 4s 2ms/step - loss: 0.0566 - accuracy: 0.9818\n",
      "Epoch 4/5\n",
      "1875/1875 [==============================] - 4s 2ms/step - loss: 0.0409 - accuracy: 0.9864\n",
      "Epoch 5/5\n",
      "1875/1875 [==============================] - 4s 2ms/step - loss: 0.0332 - accuracy: 0.9890\n",
      "313/313 [==============================] - 1s 1ms/step - loss: 0.0811 - accuracy: 0.9802\n",
      "Test accuracy: 0.9801999926567078\n"
     ]
    }
   ],
   "source": [
    "import tensorflow as tf\n",
    "from tensorflow.keras import datasets, layers, models\n",
    "import matplotlib.pyplot as plt\n",
    "\n",
    "# Load MNIST dataset\n",
    "(train_X, train_y), (test_X, test_y) = datasets.mnist.load_data()\n",
    "\n",
    "# Normalize pixel values\n",
    "train_X = train_X / 255.0\n",
    "test_X = test_X / 255.0\n",
    "\n",
    "# Define model architecture \n",
    "model = models.Sequential()\n",
    "model.add(layers.Flatten(input_shape=(28, 28)))\n",
    "model.add(layers.Dense(500, activation='relu'))\n",
    "model.add(layers.Dense(100, activation='relu'))  \n",
    "model.add(layers.Dense(10, activation='softmax'))\n",
    "\n",
    "# Compile and train model\n",
    "model.compile(\n",
    "  optimizer='adam',\n",
    "  loss='sparse_categorical_crossentropy',\n",
    "  metrics=['accuracy']\n",
    ")\n",
    "\n",
    "model.fit(train_X, train_y, epochs=5)\n",
    "\n",
    "# Evaluate on test set\n",
    "test_loss, test_acc = model.evaluate(test_X, test_y)\n",
    "print('Test accuracy:', test_acc)"
   ]
  },
  {
   "cell_type": "code",
   "execution_count": 2,
   "id": "95311801",
   "metadata": {},
   "outputs": [
    {
     "name": "stdout",
     "output_type": "stream",
     "text": [
      "Epoch 1/5\n",
      "1875/1875 [==============================] - 5s 2ms/step - loss: 0.1985 - accuracy: 0.9404\n",
      "Epoch 2/5\n",
      "1875/1875 [==============================] - 5s 3ms/step - loss: 0.0867 - accuracy: 0.9734\n",
      "Epoch 3/5\n",
      "1875/1875 [==============================] - 5s 3ms/step - loss: 0.0618 - accuracy: 0.9811\n",
      "Epoch 4/5\n",
      "1875/1875 [==============================] - 5s 3ms/step - loss: 0.0485 - accuracy: 0.9846\n",
      "Epoch 5/5\n",
      "1875/1875 [==============================] - 5s 2ms/step - loss: 0.0399 - accuracy: 0.9875\n",
      "313/313 [==============================] - 1s 1ms/step - loss: 0.0840 - accuracy: 0.9795\n",
      "Test accuracy: 0.9794999957084656\n"
     ]
    }
   ],
   "source": [
    "import tensorflow as tf\n",
    "from tensorflow.keras import datasets, layers, models  \n",
    "\n",
    "# Load data\n",
    "(train_X, train_y), (test_X, test_y) = datasets.mnist.load_data()\n",
    "train_X = train_X / 255.0\n",
    "test_X = test_X / 255.0\n",
    "\n",
    "# Build model with 3 hidden layers\n",
    "model = models.Sequential()\n",
    "model.add(layers.Flatten(input_shape=(28, 28)))\n",
    "model.add(layers.Dense(512, activation='relu'))\n",
    "model.add(layers.Dense(256, activation='relu'))\n",
    "model.add(layers.Dense(128, activation='relu'))\n",
    "model.add(layers.Dense(10, activation='softmax'))\n",
    "\n",
    "# Compile and train  \n",
    "model.compile(\n",
    "  optimizer='adam',\n",
    "  loss='sparse_categorical_crossentropy',\n",
    "  metrics=['accuracy']\n",
    ") \n",
    "\n",
    "model.fit(train_X, train_y, epochs=5)\n",
    "\n",
    "# Evaluate\n",
    "test_loss, test_acc = model.evaluate(test_X, test_y)\n",
    "print('Test accuracy:', test_acc)"
   ]
  },
  {
   "cell_type": "markdown",
   "id": "cc88d1eb",
   "metadata": {},
   "source": [
    "# The key changes on the code below are:\n",
    "\n",
    "10 epochs\n",
    "\n",
    "2048 unit layer\n",
    "\n",
    "0.5 dropout\n",
    "\n",
    "512 unit layer\n",
    "\n",
    "0.001 learning rate"
   ]
  },
  {
   "cell_type": "code",
   "execution_count": 3,
   "id": "8467f0fe",
   "metadata": {},
   "outputs": [
    {
     "name": "stdout",
     "output_type": "stream",
     "text": [
      "Epoch 1/10\n",
      "1875/1875 [==============================] - 13s 7ms/step - loss: 0.2469 - accuracy: 0.9243\n",
      "Epoch 2/10\n",
      "1875/1875 [==============================] - 12s 7ms/step - loss: 0.1421 - accuracy: 0.9581\n",
      "Epoch 3/10\n",
      "1875/1875 [==============================] - 13s 7ms/step - loss: 0.1134 - accuracy: 0.9659\n",
      "Epoch 4/10\n",
      "1875/1875 [==============================] - 13s 7ms/step - loss: 0.0974 - accuracy: 0.9707\n",
      "Epoch 5/10\n",
      "1875/1875 [==============================] - 12s 7ms/step - loss: 0.0874 - accuracy: 0.9739\n",
      "Epoch 6/10\n",
      "1875/1875 [==============================] - 13s 7ms/step - loss: 0.0798 - accuracy: 0.9761\n",
      "Epoch 7/10\n",
      "1875/1875 [==============================] - 13s 7ms/step - loss: 0.0763 - accuracy: 0.9770\n",
      "Epoch 8/10\n",
      "1875/1875 [==============================] - 13s 7ms/step - loss: 0.0673 - accuracy: 0.9794\n",
      "Epoch 9/10\n",
      "1875/1875 [==============================] - 13s 7ms/step - loss: 0.0632 - accuracy: 0.9811\n",
      "Epoch 10/10\n",
      "1875/1875 [==============================] - 13s 7ms/step - loss: 0.0614 - accuracy: 0.9822\n",
      "313/313 [==============================] - 1s 2ms/step - loss: 0.0827 - accuracy: 0.9798\n",
      "Test accuracy: 0.9797999858856201\n"
     ]
    }
   ],
   "source": [
    "import tensorflow as tf\n",
    "from tensorflow.keras import datasets, layers, models\n",
    "\n",
    "# Load data\n",
    "(train_X, train_y), (test_X, test_y) = datasets.mnist.load_data()\n",
    "train_X = train_X / 255.0\n",
    "test_X = test_X / 255.0\n",
    "\n",
    "# Build model \n",
    "model = models.Sequential()\n",
    "model.add(layers.Flatten(input_shape=(28, 28)))\n",
    "model.add(layers.Dense(2048, activation='relu'))  \n",
    "model.add(layers.Dropout(0.5))\n",
    "model.add(layers.Dense(512, activation='relu'))\n",
    "model.add(layers.Dense(256, activation='relu'))\n",
    "model.add(layers.Dense(10, activation='softmax'))\n",
    "\n",
    "# Compile and train\n",
    "model.compile(\n",
    "  optimizer=tf.keras.optimizers.Adam(learning_rate=0.001),\n",
    "  loss='sparse_categorical_crossentropy',\n",
    "  metrics=['accuracy']  \n",
    ")\n",
    "\n",
    "model.fit(train_X, train_y, epochs=10)\n",
    "\n",
    "# Evaluate\n",
    "test_loss, test_acc = model.evaluate(test_X, test_y)\n",
    "print('Test accuracy:', test_acc)"
   ]
  },
  {
   "cell_type": "markdown",
   "id": "fecc1381",
   "metadata": {},
   "source": [
    "I've added a BatchNormalization layer after each dense layer except the output. This should help stabilize activations throughout training. Let me know if this improves the accuracy! We can continue to tweak and tune as needed.(below)"
   ]
  },
  {
   "cell_type": "code",
   "execution_count": 4,
   "id": "4f809f63",
   "metadata": {},
   "outputs": [
    {
     "name": "stdout",
     "output_type": "stream",
     "text": [
      "Epoch 1/10\n",
      "1875/1875 [==============================] - 7s 3ms/step - loss: 0.2130 - accuracy: 0.9339\n",
      "Epoch 2/10\n",
      "1875/1875 [==============================] - 5s 3ms/step - loss: 0.1148 - accuracy: 0.9646\n",
      "Epoch 3/10\n",
      "1875/1875 [==============================] - 6s 3ms/step - loss: 0.0871 - accuracy: 0.9726\n",
      "Epoch 4/10\n",
      "1875/1875 [==============================] - 5s 3ms/step - loss: 0.0731 - accuracy: 0.9760\n",
      "Epoch 5/10\n",
      "1875/1875 [==============================] - 5s 3ms/step - loss: 0.0618 - accuracy: 0.9801\n",
      "Epoch 6/10\n",
      "1875/1875 [==============================] - 6s 3ms/step - loss: 0.0516 - accuracy: 0.9836\n",
      "Epoch 7/10\n",
      "1875/1875 [==============================] - 5s 3ms/step - loss: 0.0475 - accuracy: 0.9843\n",
      "Epoch 8/10\n",
      "1875/1875 [==============================] - 5s 3ms/step - loss: 0.0394 - accuracy: 0.9876\n",
      "Epoch 9/10\n",
      "1875/1875 [==============================] - 5s 3ms/step - loss: 0.0348 - accuracy: 0.9889\n",
      "Epoch 10/10\n",
      "1875/1875 [==============================] - 5s 3ms/step - loss: 0.0325 - accuracy: 0.9894\n",
      "313/313 [==============================] - 1s 2ms/step - loss: 0.0677 - accuracy: 0.9808\n",
      "Test accuracy: 0.9807999730110168\n"
     ]
    }
   ],
   "source": [
    "import tensorflow as tf\n",
    "from tensorflow.keras import datasets, layers, models\n",
    "\n",
    "# Load data \n",
    "(train_X, train_y), (test_X, test_y) = datasets.mnist.load_data()\n",
    "train_X = train_X / 255.0\n",
    "test_X = test_X / 255.0\n",
    "\n",
    "# Build model\n",
    "model = models.Sequential()\n",
    "model.add(layers.Flatten(input_shape=(28, 28))) \n",
    "model.add(layers.Dense(512, activation='relu'))\n",
    "model.add(layers.BatchNormalization())\n",
    "model.add(layers.Dense(256, activation='relu'))\n",
    "model.add(layers.BatchNormalization())  \n",
    "model.add(layers.Dense(128, activation='relu'))\n",
    "model.add(layers.BatchNormalization())\n",
    "model.add(layers.Dense(10, activation='softmax'))\n",
    "\n",
    "# Compile and train\n",
    "model.compile(\n",
    "  optimizer='adam', \n",
    "  loss='sparse_categorical_crossentropy',\n",
    "  metrics=['accuracy']\n",
    ")\n",
    "\n",
    "model.fit(train_X, train_y, epochs=10)\n",
    "\n",
    "# Evaluate \n",
    "test_loss, test_acc = model.evaluate(test_X, test_y)\n",
    "print('Test accuracy:', test_acc)"
   ]
  },
  {
   "cell_type": "markdown",
   "id": "bdf416c7",
   "metadata": {},
   "source": [
    "# above is the highest accuracy so far"
   ]
  },
  {
   "cell_type": "markdown",
   "id": "695ff2f0",
   "metadata": {},
   "source": [
    "# below\n",
    "This makes predictions on the test set, compares to the true labels to get errors, and plots a sample correct and incorrect prediction.\n",
    "\n",
    "Looking at the errors like this can reveal if there are any patterns in the model's mistakes to address. "
   ]
  },
  {
   "cell_type": "code",
   "execution_count": 7,
   "id": "444b44b0",
   "metadata": {},
   "outputs": [
    {
     "name": "stdout",
     "output_type": "stream",
     "text": [
      "313/313 [==============================] - 1s 2ms/step\n"
     ]
    },
    {
     "data": {
      "image/png": "[encoded data removed]",
      "text/plain": [
       "<Figure size 640x480 with 1 Axes>"
      ]
     },
     "metadata": {},
     "output_type": "display_data"
    },
    {
     "data": {
      "image/png": "[encoded data removed]",
      "text/plain": [
       "<Figure size 640x480 with 1 Axes>"
      ]
     },
     "metadata": {},
     "output_type": "display_data"
    }
   ],
   "source": [
    "import numpy as np\n",
    "\n",
    "# Import libraries for plotting\n",
    "import matplotlib.pyplot as plt\n",
    "\n",
    "# Make predictions on test set\n",
    "predictions = model.predict(test_X)\n",
    "\n",
    "# Get predicted classes and compare to true labels\n",
    "predicted_classes = np.argmax(predictions, axis=1)\n",
    "errors = predicted_classes - test_y \n",
    "\n",
    "# Plot a sample image correctly classified\n",
    "i = np.where(errors==0)[0][0]\n",
    "plt.imshow(test_X[i]) \n",
    "plt.title(\"True label: %d, Predicted: %d\" % (test_y[i], predicted_classes[i]))\n",
    "plt.show()\n",
    "\n",
    "# Plot a sample incorrectly classified image\n",
    "i = np.where(errors!=0)[0][0]\n",
    "plt.imshow(test_X[i])\n",
    "plt.title(\"True label: %d, Predicted: %d\" % (test_y[i], predicted_classes[i])) \n",
    "plt.show()"
   ]
  },
  {
   "cell_type": "code",
   "execution_count": null,
   "id": "f4da1f4a",
   "metadata": {},
   "outputs": [],
   "source": []
  }
 ],
 "metadata": {
  "kernelspec": {
   "display_name": "Python 3 (ipykernel)",
   "language": "python",
   "name": "python3"
  },
  "language_info": {
   "codemirror_mode": {
    "name": "ipython",
    "version": 3
   },
   "file_extension": ".py",
   "mimetype": "text/x-python",
   "name": "python",
   "nbconvert_exporter": "python",
   "pygments_lexer": "ipython3",
   "version": "3.10.9"
  }
 },
 "nbformat": 4,
 "nbformat_minor": 5
}
