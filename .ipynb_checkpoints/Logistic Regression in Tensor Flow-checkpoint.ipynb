{
 "cells": [
  {
   "cell_type": "code",
   "execution_count": 3,
   "id": "73e954ff",
   "metadata": {},
   "outputs": [],
   "source": [
    "%matplotlib inline\n",
    "\n",
    "import numpy as np\n",
    "import matplotlib.pyplot as plt\n",
    "import tensorflow as tf\n",
    "from tqdm import trange   "
   ]
  },
  {
   "cell_type": "markdown",
   "id": "c2e37f34",
   "metadata": {},
   "source": [
    "The MNIST dataset is very popular machine learning dataset, consisting of 70000 grayscale images of handwritten digits, of dimensions 28x28. We'll be using it as our example for this section of the tutorial, with the goal being to predict which the digit is in each image."
   ]
  },
  {
   "cell_type": "code",
   "execution_count": 5,
   "id": "70787956",
   "metadata": {},
   "outputs": [
    {
     "name": "stdout",
     "output_type": "stream",
     "text": [
      "Downloading data from https://storage.googleapis.com/tensorflow/tf-keras-datasets/mnist.npz\n",
      "11490434/11490434 [==============================] - 1s 0us/step\n"
     ]
    }
   ],
   "source": [
    "from tensorflow.keras.datasets import mnist\n",
    "\n",
    "(x_train, y_train), (x_test, y_test) = mnist.load_data()"
   ]
  },
  {
   "cell_type": "markdown",
   "id": "a0439dc0",
   "metadata": {},
   "source": [
    "Let's take a look at how the data is organized. Heads up, the code below has been modified according to newest upgrades. See chat history here: https://chat.openai.com/share/8a411cba-bdc9-4aca-9180-c37d86ecd008"
   ]
  },
  {
   "cell_type": "code",
   "execution_count": 8,
   "id": "4c62b80e",
   "metadata": {},
   "outputs": [
    {
     "name": "stdout",
     "output_type": "stream",
     "text": [
      "Training image data: (55002, 784)\n",
      "Validation image data: (4998, 784)\n",
      "Testing image data: (10000, 784)\n",
      "28 x 28 = 784\n",
      "\n",
      "Test Labels: (10000,)\n",
      "Label distribution: [(0, 980), (1, 1135), (2, 1032), (3, 1010), (4, 982), (5, 892), (6, 958), (7, 1028), (8, 974), (9, 1009)]\n",
      "\n",
      "Train image 1 is labelled as 2\n"
     ]
    },
    {
     "data": {
      "text/plain": [
       "<matplotlib.image.AxesImage at 0x2a3cef6c730>"
      ]
     },
     "execution_count": 8,
     "metadata": {},
     "output_type": "execute_result"
    },
    {
     "data": {
      "image/png": "[encoded data removed]",
      "text/plain": [
       "<Figure size 640x480 with 1 Axes>"
      ]
     },
     "metadata": {},
     "output_type": "display_data"
    }
   ],
   "source": [
    "# Flatten the image data\n",
    "x_train = x_train.reshape(-1, 784)\n",
    "x_test = x_test.reshape(-1, 784)\n",
    "\n",
    "# Split the training data into training and validation sets\n",
    "validation_split = 0.0833  # Approximately 5000 samples for validation\n",
    "num_validation_samples = int(validation_split * len(x_train))\n",
    "\n",
    "x_val = x_train[:num_validation_samples]\n",
    "y_val = y_train[:num_validation_samples]\n",
    "\n",
    "x_train = x_train[num_validation_samples:]\n",
    "y_train = y_train[num_validation_samples:]\n",
    "\n",
    "# Dataset statistics\n",
    "print('Training image data: {0}'.format(x_train.shape))\n",
    "print('Validation image data: {0}'.format(x_val.shape))\n",
    "print('Testing image data: {0}'.format(x_test.shape))\n",
    "print('28 x 28 = {0}'.format(28 * 28))\n",
    "\n",
    "print('\\nTest Labels: {0}'.format(y_test.shape))\n",
    "labels, num_labels = np.unique(y_test, return_counts=True)\n",
    "print('Label distribution: {0}'.format(list(zip(labels, num_labels))))\n",
    "\n",
    "# Example image\n",
    "print('\\nTrain image 1 is labelled as {0}'.format(y_train[1]))\n",
    "image = x_train[1].reshape(28, 28)\n",
    "plt.imshow(image, cmap='gray')"
   ]
  },
  {
   "cell_type": "markdown",
   "id": "02340761",
   "metadata": {},
   "source": [
    "Logistic Regression Model: Define the graph input: this is where we feed in our training images into the model. Since MNIST digits are pretty small and the model we're using is very simple, we'll feed them in as flat vectors."
   ]
  },
  {
   "cell_type": "markdown",
   "id": "a85df202",
   "metadata": {},
   "source": [
    "Old code:"
   ]
  },
  {
   "cell_type": "code",
   "execution_count": 9,
   "id": "80bf1d71",
   "metadata": {},
   "outputs": [
    {
     "ename": "AttributeError",
     "evalue": "module 'tensorflow' has no attribute 'placeholder'",
     "output_type": "error",
     "traceback": [
      "\u001b[1;31m---------------------------------------------------------------------------\u001b[0m",
      "\u001b[1;31mAttributeError\u001b[0m                            Traceback (most recent call last)",
      "Cell \u001b[1;32mIn[9], line 2\u001b[0m\n\u001b[0;32m      1\u001b[0m \u001b[38;5;66;03m# Define input placeholder\u001b[39;00m\n\u001b[1;32m----> 2\u001b[0m x \u001b[38;5;241m=\u001b[39m \u001b[43mtf\u001b[49m\u001b[38;5;241;43m.\u001b[39;49m\u001b[43mplaceholder\u001b[49m(tf\u001b[38;5;241m.\u001b[39mfloat32, [\u001b[38;5;28;01mNone\u001b[39;00m, \u001b[38;5;241m784\u001b[39m])\n",
      "\u001b[1;31mAttributeError\u001b[0m: module 'tensorflow' has no attribute 'placeholder'"
     ]
    }
   ],
   "source": [
    "# Define input placeholder\n",
    "x = tf.placeholder(tf.float32, [None, 784])"
   ]
  },
  {
   "cell_type": "markdown",
   "id": "a01353bd",
   "metadata": {},
   "source": [
    "New Code"
   ]
  },
  {
   "cell_type": "code",
   "execution_count": 10,
   "id": "2c57fb2d",
   "metadata": {},
   "outputs": [],
   "source": [
    "# Define input placeholder\n",
    "x = tf.keras.Input(shape=(784,), dtype=tf.float32)"
   ]
  },
  {
   "cell_type": "markdown",
   "id": "34c06bd5",
   "metadata": {},
   "source": [
    "To get our predicted probabilities of each digit, let's first start with the probability of a digit being a 3 like the image above. For our simple model, we start by applying a linear transformation. That is, we multiply each value of the input vector by a weight, sum them all together, and then add a bias. In equation form:\n",
    "\n",
    "𝑦3=∑𝑖𝑤𝑖,3𝑥𝑖+𝑏3\n",
    " \n",
    "The magnitude of this result  𝑦3\n",
    " , we'll take as being correlated to our belief in how likely we think the input digit was a 3. The higher the value of  𝑦3\n",
    " , the more likely we think the input image  𝑥\n",
    "  was a 3 (ie, we'd hope we'd get a relatively large value for  𝑦3\n",
    "  for the above image). Remember though, our original goal was to identify all 10 digits, so we also have:\n",
    "\n",
    "𝑦0=𝑦9=∑𝑖𝑤𝑖,0𝑥𝑖+𝑏0\n",
    "...\n",
    "y9=∑𝑖𝑤𝑖,9𝑥𝑖+𝑏9\n",
    " \n",
    "We can express this in matrix form as:\n",
    "\n",
    "𝑦=𝑊𝑥+𝑏\n",
    " \n",
    "To put this into our graph in TensorFlow, we need to define some Variables to hold the weights and biases:"
   ]
  },
  {
   "cell_type": "markdown",
   "id": "a60add07",
   "metadata": {},
   "source": [
    "old code"
   ]
  },
  {
   "cell_type": "code",
   "execution_count": 11,
   "id": "f4c2c7d2",
   "metadata": {
    "scrolled": true
   },
   "outputs": [
    {
     "name": "stdout",
     "output_type": "stream",
     "text": [
      "WARNING:tensorflow:The following Variables were used in a Lambda layer's call (tf.linalg.matmul), but are not present in its tracked objects:   <tf.Variable 'Variable:0' shape=(784, 10) dtype=float32>. This is a strong indication that the Lambda layer should be rewritten as a subclassed Layer.\n",
      "WARNING:tensorflow:The following Variables were used in a Lambda layer's call (tf.__operators__.add), but are not present in its tracked objects:   <tf.Variable 'Variable:0' shape=(10,) dtype=float32>. This is a strong indication that the Lambda layer should be rewritten as a subclassed Layer.\n"
     ]
    }
   ],
   "source": [
    "# Define linear transformation\n",
    "W = tf.Variable(tf.zeros([784, 10]))\n",
    "b = tf.Variable(tf.zeros([10]))\n",
    "y = tf.matmul(x, W) + b"
   ]
  },
  {
   "cell_type": "markdown",
   "id": "eb901471",
   "metadata": {},
   "source": [
    "new code"
   ]
  },
  {
   "cell_type": "code",
   "execution_count": 12,
   "id": "0305523d",
   "metadata": {},
   "outputs": [],
   "source": [
    "class LinearLayer(tf.keras.layers.Layer):\n",
    "    def __init__(self, num_outputs):\n",
    "        super(LinearLayer, self).__init__()\n",
    "        self.num_outputs = num_outputs\n",
    "\n",
    "    def build(self, input_shape):\n",
    "        self.W = self.add_weight(\"W\",\n",
    "                                 shape=[input_shape[-1], self.num_outputs],\n",
    "                                 initializer=tf.zeros_initializer())\n",
    "        self.b = self.add_weight(\"b\",\n",
    "                                 shape=[self.num_outputs],\n",
    "                                 initializer=tf.zeros_initializer())\n",
    "\n",
    "    def call(self, inputs):\n",
    "        return tf.matmul(inputs, self.W) + self.b\n",
    "\n",
    "x = tf.keras.Input(shape=(784,))\n",
    "linear_layer = LinearLayer(num_outputs=10)\n",
    "y = linear_layer(x)"
   ]
  },
  {
   "cell_type": "code",
   "execution_count": null,
   "id": "aa7f2c8f",
   "metadata": {},
   "outputs": [],
   "source": []
  },
  {
   "cell_type": "code",
   "execution_count": null,
   "id": "0240dd11",
   "metadata": {},
   "outputs": [],
   "source": []
  },
  {
   "cell_type": "code",
   "execution_count": null,
   "id": "5a4523e3",
   "metadata": {},
   "outputs": [],
   "source": []
  },
  {
   "cell_type": "code",
   "execution_count": null,
   "id": "350511c9",
   "metadata": {},
   "outputs": [],
   "source": []
  },
  {
   "cell_type": "code",
   "execution_count": null,
   "id": "8774cfe6",
   "metadata": {},
   "outputs": [],
   "source": []
  },
  {
   "cell_type": "code",
   "execution_count": null,
   "id": "57c45109",
   "metadata": {},
   "outputs": [],
   "source": []
  }
 ],
 "metadata": {
  "kernelspec": {
   "display_name": "Python 3 (ipykernel)",
   "language": "python",
   "name": "python3"
  },
  "language_info": {
   "codemirror_mode": {
    "name": "ipython",
    "version": 3
   },
   "file_extension": ".py",
   "mimetype": "text/x-python",
   "name": "python",
   "nbconvert_exporter": "python",
   "pygments_lexer": "ipython3",
   "version": "3.10.9"
  }
 },
 "nbformat": 4,
 "nbformat_minor": 5
}
